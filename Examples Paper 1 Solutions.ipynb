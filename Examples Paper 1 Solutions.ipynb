{
 "cells": [
  {
   "cell_type": "markdown",
   "metadata": {},
   "source": [
    "# Summary \n",
    "\n",
    "Crib for Examples Paper 1 for the Part IA computing course. See end of notebook for license."
   ]
  },
  {
   "cell_type": "markdown",
   "metadata": {},
   "source": [
    "# Question 1\n",
    "\n",
    "(a) A `dictionary`. We want to look-up telephone numbers by name, so names could be used as keys, and telephone numbers would be the values.\n",
    "\n",
    "(b) A `list` of `tuples`. A tuple would be suitable for holding the data for each vehicle \n",
    "(since this data cannot change), and a list could hold the tuples for each vehicle.\n",
    "\n",
    "(c) A NumPy array. Since the data is numerical and the intention is to perform statistical analysis, a NumPy array would be suitable."
   ]
  },
  {
   "cell_type": "markdown",
   "metadata": {},
   "source": [
    "# Question 2\n",
    "\n",
    "Using $n$ bits, the greatest positive integer that can be stored is $2^{n-1}-1$ (the exponent is $n-1$ rather than $n$ because one bit is used to store the sign). Therefore, for a positive number $x$, the number required bits $n$ is \n",
    "$$\n",
    "n = \\log_{2}(x + 1) + 1,\n",
    "$$\n",
    "with $n$ then rounded up to the nearest integer. \n",
    "\n",
    "For a negative number, the greatest negative integer than can be stored is \n",
    "$-2^{n-1}$. This is different (by one) from the positive integer case because, \n",
    "in simple terms, the standard practice is to consider \n",
    "'$+0$' to be zero, and '$-0$' to be $-1$. This means that for a fixed number of bits, \n",
    "the absolute value of greatest negative integer that can be stored is one more than the\n",
    "greatest positive integer that could be stored. For negative numbers:\n",
    "$$\n",
    "n = \\log_{2}\\left(\\left| x \\right|\\right) + 1,\n",
    "$$\n",
    "with $n$ then rounded up the nearest integer.\n",
    "\n",
    "(a) 7 bits ($\\log_{2}(48 + 1) + 1 \\approx 6.6$)\n",
    "\n",
    "(b) 7 bits ($\\log_{2}(48) + 1 \\approx 6.6$)\n",
    "\n",
    "(c) 33 bits ($\\log_{2}(2500455245 + 1) + 1 \\approx 32.2$)\n",
    "\n",
    "(d) 4 bits ($\\log_{2}(8) + 1 = 4$)"
   ]
  },
  {
   "cell_type": "markdown",
   "metadata": {},
   "source": [
    "# Question 3\n",
    "\n",
    "The issue is that if the value of the least significant digit in $x^{2}$ is greater than 1, then $x^{2} + 1$ will evaluate to $x^{2}$. The denominator will then be zero.\n",
    "\n",
    "(a) $n = 3$ \n",
    "\n",
    "- Since $(10^{3})^{2} = 10^{6}$, with 7 significant digits the addition of 1 will not be lost.\n",
    "- Since $(10^{4})^{2} = 10^{8}$, with 7 significant digits the addition of 1 will be lost.\n",
    "\n",
    "(b) $n = 7$ \n",
    "\n",
    "- Since $(10^{7})^{2} = 10^{14}$, with 15 significant digits the addition of 1 will not be lost.\n",
    "- Since $(10^{8})^{2} = 10^{16}$, with 15 significant digits the addition of 1 will be lost.\n",
    "\n",
    "The accuracy of the computations is a separate disucssion. "
   ]
  },
  {
   "cell_type": "markdown",
   "metadata": {},
   "source": [
    "## Extension \n",
    "\n",
    "The above can be tested numerically. This in an extension to the exercise. "
   ]
  },
  {
   "cell_type": "code",
   "execution_count": 1,
   "metadata": {},
   "outputs": [
    {
     "name": "stdout",
     "output_type": "stream",
     "text": [
      "Using 32-bit float and n=3:\n",
      " 1000001.000000\n",
      "Using 32-bit float and n=4:\n",
      "  100000000.000000\n",
      "Using 64-bit float and n=7:\n",
      "  100000000000001.000000\n",
      "Using 64-bit float and n=8:\n",
      "  10000000000000000.000000\n"
     ]
    }
   ],
   "source": [
    "import numpy as np\n",
    "\n",
    "# Evaluate x*2 + 1.0 using 32-bit floats\n",
    "\n",
    "# This retains the 1 term\n",
    "x = np.float32(1.0e3)\n",
    "a = np.float32(x**2) + np.float32(1.0)\n",
    "print(\"Using 32-bit float and n=3:\\n {:f}\".format(a))\n",
    "\n",
    "# The 1 term is now lost\n",
    "x = np.float32(1.0e4)\n",
    "a = np.float32(x**2) + np.float32(1.0)\n",
    "print(\"Using 32-bit float and n=4:\\n  {:f}\".format(a))\n",
    "\n",
    "# Evaluate x*2 + 1.0 using 64-bit floats\n",
    "\n",
    "# This retains the 1 term\n",
    "x = np.float64(1.0e7)\n",
    "a = np.float64(x**2) + np.float64(1.0)\n",
    "print(\"Using 64-bit float and n=7:\\n  {:f}\".format(a))\n",
    "\n",
    "# The 1 term is now lost\n",
    "x = np.float64(1.0e8)\n",
    "a = np.float64(x**2) + np.float64(1.0)\n",
    "print(\"Using 64-bit float and n=8:\\n  {:f}\".format(a))"
   ]
  },
  {
   "cell_type": "markdown",
   "metadata": {},
   "source": [
    "# Question 4\n",
    "\n",
    "The point of interest in this question is how the relative error propagates though the problem. If an operation is stable, the relative error in the 'result' will be comparable to the relative error in the 'input'. "
   ]
  },
  {
   "cell_type": "markdown",
   "metadata": {},
   "source": [
    "(a) $10x$\n",
    "\n",
    "\\begin{equation}\n",
    "e \n",
    "= \\frac{\\left|10 x - 10 x (1 + \\epsilon_{x})\\right|}{\\left|10x\\right|} \n",
    "= \\left| \\epsilon_{x} \\right| \n",
    "\\le \\epsilon\n",
    "\\end{equation}\n",
    "\n",
    "This problem is stable with respect to round-off error, i.e. the relative error does not grow."
   ]
  },
  {
   "cell_type": "markdown",
   "metadata": {},
   "source": [
    "(b) $xy$\n",
    "\n",
    "\\begin{align}\n",
    "e  &= \\frac{\\left|xy - x(1 + \\epsilon_{x})y(1 + \\epsilon_{y})\\right|}{\\left|xy\\right|} \n",
    "\\\\ &= \\frac{\\left|xy - xy - xy \\epsilon_{x} - xy \\epsilon_{y} - xy \\epsilon_{x}  \\epsilon_{y}\\right|}{\\left|xy\\right|}\n",
    "\\end{align}\n",
    "\n",
    "Since $\\epsilon$ is small ($\\epsilon \\ll 1$), drop the $\\epsilon_{x}  \\epsilon_{y}$ term, which leads to:\n",
    "\n",
    "$$\n",
    "e  = \\left| \\epsilon_{x} + \\epsilon_{y} \\right|  \\le 2 \\epsilon\n",
    "$$\n",
    "\n",
    "This problem is stable with respect to round-off error, i.e. the growth in the relative error is bounded."
   ]
  },
  {
   "cell_type": "markdown",
   "metadata": {},
   "source": [
    "(c) $x/y$\n",
    "\n",
    "\\begin{align}\n",
    "e  &= \\frac{|x/y - x(1 + \\epsilon_{x})/(y(1 + \\epsilon_{y})) |}{|x/y|}\n",
    "\\\\ &= \\left| 1 - \\frac{1 + \\epsilon_{x}}{1 + \\epsilon_{y}} \\right| \n",
    "\\\\ &= \\frac{\\left| \\epsilon_{y} - \\epsilon_{x} \\right|}{\\left| 1 + \\epsilon_{y} \\right|}\n",
    "\\end{align}\n",
    "\n",
    "Since $\\epsilon_{y}$ is small,\n",
    "$$\n",
    "e  = \\left| \\epsilon_{x} - \\epsilon_{y} \\right| \\le 2 \\epsilon\n",
    "$$\n",
    "This problem is stable with respect to round-off error, i.e. the growth in the relative error is bounded."
   ]
  },
  {
   "cell_type": "markdown",
   "metadata": {},
   "source": [
    "(d) $x + y$\n",
    "\n",
    "\\begin{align}\n",
    "e \n",
    "&= \\frac{\\left| x + y - x(1 + \\epsilon_{x}) - y(1 + \\epsilon_{y}) \\right|}{\\left| x + y \\right|}\n",
    "\\\\\n",
    "&= \\frac{\\left| x \\epsilon_{x} + y \\epsilon_{y} \\right|}{\\left|x + y \\right|} \n",
    "\\end{align}\n",
    "\n",
    "Unlike the previous problems, we still have the expression of interest, $x + y$, in the denominator.\n",
    "If $|x + y|$ is large, then the denominator will be large\n",
    "compared to the numerator and the error will not grow substantially.\n",
    "\n",
    "However, we have\n",
    "$$\n",
    "e \n",
    "\\le \\frac{\\epsilon\\left( \\left| x \\right|  + \\left| y \\right| \\right)}{\\left|x + y \\right|}.\n",
    "$$\n",
    "If $y$ is close to $-x$, the denominator becomes small and the relative error increase dramatically, especially for large $\\left |x \\right|$.\n",
    "\n",
    "The key result is that computing $x - y$ when $x \\approx y$ can lead to large relative errors."
   ]
  },
  {
   "cell_type": "markdown",
   "metadata": {},
   "source": [
    "# Question 5"
   ]
  },
  {
   "cell_type": "markdown",
   "metadata": {},
   "source": [
    "(a) Computing $2 \\boldsymbol{u}$ involves $n$ multiplications ($O(n)$), and summing $2 \\boldsymbol{u}$ and $\\boldsymbol{v}$ involves $n$ additions ($O(n)$). Complexity is therefore $O(n)$."
   ]
  },
  {
   "cell_type": "markdown",
   "metadata": {},
   "source": [
    "(b) Computing $\\boldsymbol{c} = \\boldsymbol{B} \\boldsymbol{u}$ involves $n^{2}$ add-multiply operations ($O(n^{2})$). To compute  $\\boldsymbol{A} \\boldsymbol{c}$, the number of operations is $n^{2}$ ($O(n^{2})$). Adding two vectors is $O(n)$. Complexity is therefore $O(n^{2})$.\n",
    "\n",
    "If $\\boldsymbol{A}\\boldsymbol{B}$ was computed first, the number of operations would be $n^{3}$ ($O(n^{3})$), followed by $n^{2}$ operations for the matrix-vector products. Complexity would therefore be $O(n^{3})$.\n",
    "This demonstrates that the order in which mathematical operations are performed can affect complexity."
   ]
  },
  {
   "cell_type": "markdown",
   "metadata": {},
   "source": [
    "(c) Sum all entries ($n$ additions, ($O(n)$)) and divide by length of vector (one operation, ($O(1)$)). Complexity is $O(n)$."
   ]
  },
  {
   "cell_type": "markdown",
   "metadata": {},
   "source": [
    "(d) Sum all entries ($mn$ additions, which is $O(mn)$) and divide by number of entries in the matrix ($O(1)$), then for each entry subtract the entry from the mean value, square and sum ($O(mn)$. Final step is division by total number of entries and take square root ($O(1)$). Complexity is therefore $O(mn)$. "
   ]
  },
  {
   "cell_type": "markdown",
   "metadata": {},
   "source": [
    "# Question 6\n",
    "\n",
    "The analyical solution is:\n",
    "\n",
    "$$\n",
    "\\int_{0}^{10} x^{3} + x^{2} \\, dx = \\left. \\frac{x^{4}}{4} + \\frac{x^{3}}{3} \\right|^{10}_{0} =\\frac{8500}{3}\n",
    "$$"
   ]
  },
  {
   "cell_type": "markdown",
   "metadata": {},
   "source": [
    "First step is to implement a function that performs numerical integration given a function $f$ to be integrated, integration limits ($a$ and $b$), integration points $x_{i}$ and integration weights $w_{i}$:"
   ]
  },
  {
   "cell_type": "code",
   "execution_count": 2,
   "metadata": {},
   "outputs": [],
   "source": [
    "def integrate(f, a, b, x, w):\n",
    "\n",
    "    # Iterate over all integration points\n",
    "    integral = 0.0\n",
    "\n",
    "    for i in range(len(x)):\n",
    "        integral += f(x[i])*w[i]\n",
    "\n",
    "    # A 'neater' implementation would be use 'zip'    \n",
    "    #for xi, wi in zip(x, w):  # zip allows iteration over x and w at the same time\n",
    "    #    integral += f(xi)*wi\n",
    "\n",
    "    return (b - a)*integral"
   ]
  },
  {
   "cell_type": "markdown",
   "metadata": {},
   "source": [
    "In an examination the above could be expressed in Python-like pseudo-code.\n",
    "\n",
    "We now define the function of interest and the integration limits:"
   ]
  },
  {
   "cell_type": "code",
   "execution_count": 3,
   "metadata": {},
   "outputs": [],
   "source": [
    "# Equation of interest\n",
    "def f(x):\n",
    "    return x**3 + x**2\n",
    "\n",
    "# Limits\n",
    "a, b = 0, 10\n",
    "\n",
    "exact_solution = 8500/3 "
   ]
  },
  {
   "cell_type": "markdown",
   "metadata": {},
   "source": [
    "## Trapezoidal rule"
   ]
  },
  {
   "cell_type": "code",
   "execution_count": 4,
   "metadata": {},
   "outputs": [
    {
     "name": "stdout",
     "output_type": "stream",
     "text": [
      "Numerical integral: 5500.0\n",
      "Error:              2666.6666666666665\n"
     ]
    }
   ],
   "source": [
    "# Points and weights\n",
    "x = (a, b)\n",
    "w = (0.5, 0.5)\n",
    "\n",
    "# Integrate\n",
    "integral = integrate(f, a, b, x, w) \n",
    "\n",
    "# Display output\n",
    "print(\"Numerical integral:\", integral)\n",
    "print(\"Error:             \", abs(integral - exact_solution))"
   ]
  },
  {
   "cell_type": "markdown",
   "metadata": {},
   "source": [
    "## Simpson's rule"
   ]
  },
  {
   "cell_type": "code",
   "execution_count": 5,
   "metadata": {},
   "outputs": [
    {
     "name": "stdout",
     "output_type": "stream",
     "text": [
      "Numerical integral: 2833.333333333333\n",
      "Error:              4.547473508864641e-13\n"
     ]
    }
   ],
   "source": [
    "# Points and weights\n",
    "x = (a, (a + b)/2, b)\n",
    "w = (1/6, 2/3, 1/6 )\n",
    "\n",
    "# Integrate\n",
    "integral = integrate(f, a, b, x, w) \n",
    "\n",
    "# Display output\n",
    "print(\"Numerical integral:\", integral)\n",
    "print(\"Error:             \", abs(integral - exact_solution))"
   ]
  },
  {
   "cell_type": "markdown",
   "metadata": {},
   "source": [
    "Simpson's rule is the three-point rule from the Newton-Cotes family of schemes. "
   ]
  },
  {
   "cell_type": "markdown",
   "metadata": {},
   "source": [
    "## Gauss quadrature (two-point)"
   ]
  },
  {
   "cell_type": "code",
   "execution_count": 6,
   "metadata": {},
   "outputs": [
    {
     "name": "stdout",
     "output_type": "stream",
     "text": [
      "Numerical integral: 2833.333333333334\n",
      "Error:              4.547473508864641e-13\n"
     ]
    }
   ],
   "source": [
    "import math\n",
    "\n",
    "# Points and weights\n",
    "x = ((a+b)/2 - (b-a)/(2*math.sqrt(3)), \n",
    "     (a + b)/2 + (b - a)/(2*math.sqrt(3)))\n",
    "w = (1/2, 1/2)\n",
    "\n",
    "# Integrate\n",
    "integral = integrate(f, a, b, x, w) \n",
    "\n",
    "# Display output\n",
    "print(\"Numerical integral:\", integral)\n",
    "print(\"Error:             \", abs(integral - exact_solution))"
   ]
  },
  {
   "cell_type": "markdown",
   "metadata": {},
   "source": [
    "Gauss quadrature is a family of numerical integration schemes that with $n$ points can integrate a polynomial of degree $2n -1 $ exactly."
   ]
  },
  {
   "cell_type": "markdown",
   "metadata": {},
   "source": [
    "## Improving accuracy\n",
    "\n",
    "Using the above schemes, accuracy could be improved by breaking the integration domain $(a, b)$ into smaller pieces:\n",
    "\n",
    "$$\n",
    "\\int_{a}^{b} f \\, dx \n",
    "\\approx \n",
    "(x_{1} -a) \\sum_{i=0}^{n-1} w_{i} f(x_{i}) + (x_{2} - x_{1}) \\sum_{i=0}^{n-1} w_{i} f(x_{i}) + \\dots + (b - x_{j}) \\sum_{i=0}^{n-1} w_{i} f(x_{i}).\n",
    "$$\n",
    "\n",
    "The values of $x_{i}$ need to be re-mapped for the smaller intervals."
   ]
  },
  {
   "cell_type": "markdown",
   "metadata": {},
   "source": [
    "# Question 7"
   ]
  },
  {
   "cell_type": "markdown",
   "metadata": {},
   "source": [
    "(a) The equation is\n",
    "second-order, constant coefficient and homogeneous. Using the usual approach, the general solution is\n",
    "\n",
    "$$\n",
    "x = A \\cos(\\omega t) + B \\sin(\\omega t),\n",
    "$$\n",
    "\n",
    "where $\\omega = \\sqrt{k/m}$. Using the initial conditions $x(0) = 0.01$ and $\\dot{x}(0) = 0$, the exact solution is:\n",
    "\n",
    "$$\n",
    "x = 0.01 \\cos(\\omega t).\n",
    "$$\n"
   ]
  },
  {
   "cell_type": "markdown",
   "metadata": {},
   "source": [
    "(b) The approximation of the second derivative is\n",
    "\n",
    "$$\n",
    "\\ddot{x}_{n} \\approx \\frac{x_{n-1} - 2 x_{n} + x_{n+1}}{\\Delta t^{2}},\n",
    "$$\n",
    "\n",
    "and inserting this into the equation we want to solve,\n",
    "\n",
    "$$\n",
    "m \\ddot{x}_{n} + k x_{n} = F_{n},\n",
    "$$\n",
    "\n",
    "we get:\n",
    "\n",
    "$$\n",
    "m \\frac{x_{n-1} - 2 x_{n} + x_{n+1}}{\\Delta t^{2}} + k x_{n} = F_{n}\n",
    "$$\n",
    "\n",
    "Re-arranging to isolate $n+1$ terms of the the left-hand side and moving the remaining terms \n",
    "to the right-hand side:\n",
    "\n",
    "$$\n",
    "x_{n+1} = \\frac{\\Delta t^{2}}{m} F_{n} - \\frac{\\Delta t^{2} k}{m} x_{n} + 2 x_{n} - x_{n-1}.\n",
    "$$\n",
    "\n",
    "Now, if we know all terms at time $t_{n}$ and $t_{n-1}$, we can compute $x_{n+1}$ and then advance $n$."
   ]
  },
  {
   "cell_type": "markdown",
   "metadata": {},
   "source": [
    "The task is to turn the expression for computing $x_{n+1}$ into a working algorithm/program.\n",
    "We first set-up the necessary data:"
   ]
  },
  {
   "cell_type": "code",
   "execution_count": 7,
   "metadata": {},
   "outputs": [],
   "source": [
    "import numpy as np\n",
    "\n",
    "# Time step\n",
    "dt = 0.01\n",
    "\n",
    "# Times t_0, t_1, ety\n",
    "T = np.arange(0, 20, dt)\n",
    "\n",
    "# Mass and spring stiffness\n",
    "m, k = 1, 40\n",
    "\n",
    "# Create NumPy array to hold the solution x_n\n",
    "x = np.zeros(len(T))\n",
    "\n",
    "# Set the intial conditions\n",
    "x[0], x[1] = 0.01, 0.01"
   ]
  },
  {
   "cell_type": "markdown",
   "metadata": {},
   "source": [
    "We now compute $x_{n}$, starting at $x_{2}$ because $x_{0}$ and $x_{1}$ were set by the initial conditions. "
   ]
  },
  {
   "cell_type": "code",
   "execution_count": 8,
   "metadata": {},
   "outputs": [],
   "source": [
    "F = 0\n",
    "for n in range(2, len(T)):\n",
    "    x[n] = (dt*dt/m)*F - (dt*dt*k/m)*x[n-1] + 2*x[n-1] - x[n-2]  "
   ]
  },
  {
   "cell_type": "markdown",
   "metadata": {},
   "source": [
    "We evaluate the exact solution at each $t_{n}$:"
   ]
  },
  {
   "cell_type": "markdown",
   "metadata": {},
   "source": [
    "We now plot the numerical and analytical solutions:"
   ]
  },
  {
   "cell_type": "code",
   "execution_count": 9,
   "metadata": {},
   "outputs": [
    {
     "data": {
      "image/png": "[encoded data removed]",
      "text/plain": [
       "<Figure size 432x288 with 1 Axes>"
      ]
     },
     "metadata": {
      "needs_background": "light"
     },
     "output_type": "display_data"
    },
    {
     "data": {
      "text/plain": [
       "<Figure size 432x288 with 0 Axes>"
      ]
     },
     "metadata": {},
     "output_type": "display_data"
    }
   ],
   "source": [
    "import matplotlib.pyplot as plt\n",
    "%matplotlib inline\n",
    "\n",
    "# Exact solution\n",
    "w = np.sqrt(k/m)\n",
    "x_exact = 0.01*np.cos(w*T)\n",
    "\n",
    "# Plot\n",
    "plt.plot(T, x, label='numerical')\n",
    "plt.plot(T, x_exact, label='analytical');\n",
    "\n",
    "# Add labels and legend\n",
    "plt.xlabel('$t$')\n",
    "plt.ylabel('$x$')\n",
    "plt.legend()\n",
    "plt.figure();"
   ]
  },
  {
   "cell_type": "markdown",
   "metadata": {},
   "source": [
    "You could try changing the time step to see the effect"
   ]
  },
  {
   "cell_type": "markdown",
   "metadata": {},
   "source": [
    "(c) We now need to add a right-hand side term (friction) that depends in the direction of motion (and which is is given by the velocity).\n",
    "\n",
    "We first create a function that given the velocity returns the friction force $F$:"
   ]
  },
  {
   "cell_type": "code",
   "execution_count": 10,
   "metadata": {},
   "outputs": [],
   "source": [
    "def F(v):\n",
    "    \"Return friction force\"\n",
    "    if v < 0.0:\n",
    "        return 0.025\n",
    "    elif v > 0.0:\n",
    "        return -0.025\n",
    "    else:\n",
    "        return 0.0"
   ]
  },
  {
   "cell_type": "markdown",
   "metadata": {},
   "source": [
    "Using the difference equation to compute values of $x$:"
   ]
  },
  {
   "cell_type": "code",
   "execution_count": 11,
   "metadata": {},
   "outputs": [],
   "source": [
    "for n in range(2, len(T)):\n",
    "    # Compute (approximate) velocity (used to determine friction force)\n",
    "    v = (x[n-1] - x[n-2])/dt\n",
    "\n",
    "    # Compute x_n\n",
    "    x[n] = (dt*dt/m)*F(v) - (dt*dt*k/m)*x[n-1] + 2*x[n-1] - x[n-2]  "
   ]
  },
  {
   "cell_type": "markdown",
   "metadata": {},
   "source": [
    "We plot the response with friction, and compare to the analytical case without friction:"
   ]
  },
  {
   "cell_type": "code",
   "execution_count": 12,
   "metadata": {},
   "outputs": [
    {
     "data": {
      "image/png": "[encoded data removed]",
      "text/plain": [
       "<Figure size 432x288 with 1 Axes>"
      ]
     },
     "metadata": {
      "needs_background": "light"
     },
     "output_type": "display_data"
    },
    {
     "data": {
      "text/plain": [
       "<Figure size 432x288 with 0 Axes>"
      ]
     },
     "metadata": {},
     "output_type": "display_data"
    }
   ],
   "source": [
    "plt.plot(T, x, label='numerical (with friction)')\n",
    "plt.plot(T, x_exact, label='analytical (without friction)');\n",
    "\n",
    "plt.xlabel('$t$')\n",
    "plt.ylabel('$x$')\n",
    "plt.legend()\n",
    "plt.figure();"
   ]
  },
  {
   "cell_type": "markdown",
   "metadata": {},
   "source": [
    "# Question 8\n",
    "\n",
    "We first implement Monte Carlo integration for a function $f$ of two variables over a rectangle $(-a, a) \\times (-b, b)$:"
   ]
  },
  {
   "cell_type": "code",
   "execution_count": 13,
   "metadata": {},
   "outputs": [],
   "source": [
    "import random\n",
    "\n",
    "def integrate(f, a, b, N):\n",
    "    # Loop over samples\n",
    "    f_sum = 0.0\n",
    "    for i in range(N):\n",
    "        # Generate random point (xi, yi) that is inside the square (-a, a) x (-b, b)\n",
    "        x = random.uniform(-a, a)      \n",
    "        y = random.uniform(-b, b)\n",
    "\n",
    "        # Evaluate function at the random points and sum\n",
    "        f_sum += f(x, y)\n",
    "    \n",
    "    # Return mean of function value multiplied by area\n",
    "    return (4*a*b)*f_sum/N  "
   ]
  },
  {
   "cell_type": "markdown",
   "metadata": {},
   "source": [
    "In an exam the above could be expressed using pseudo-code.\n",
    "\n",
    "A simple test is to integrate the function $f = 1$ on $(-1, 1) \\times (-1, 1)$, which should be 4 (exactly) for any $N > 0$: "
   ]
  },
  {
   "cell_type": "code",
   "execution_count": 14,
   "metadata": {},
   "outputs": [
    {
     "name": "stdout",
     "output_type": "stream",
     "text": [
      "4.0\n",
      "4.0\n"
     ]
    }
   ],
   "source": [
    "def f(x, y):\n",
    "    return 1.0\n",
    "\n",
    "x0 = integrate(f, 1, 1, 100)\n",
    "print(x0)\n",
    "\n",
    "x1 = integrate(f, 1, 1, 1000)\n",
    "print(x1)"
   ]
  },
  {
   "cell_type": "markdown",
   "metadata": {},
   "source": [
    "(a) Declare the function we wish to integrate:"
   ]
  },
  {
   "cell_type": "code",
   "execution_count": 15,
   "metadata": {},
   "outputs": [],
   "source": [
    "def f(x, y):\n",
    "    return np.exp(x*y)*(np.cos(y)**2*np.sin(x**2))"
   ]
  },
  {
   "cell_type": "markdown",
   "metadata": {},
   "source": [
    "Integrate using differing number of points:"
   ]
  },
  {
   "cell_type": "code",
   "execution_count": 16,
   "metadata": {},
   "outputs": [
    {
     "name": "stdout",
     "output_type": "stream",
     "text": [
      "Approximate integral using 100 points: 0.8080916190950365\n",
      "Approximate integral using 10000 points: 0.9776060381785302\n",
      "Approximate integral using 100000 points: 0.9765477041856181\n"
     ]
    }
   ],
   "source": [
    "integral = integrate(f, 1, 1, 100)\n",
    "print(\"Approximate integral using 100 points:\", integral)\n",
    "\n",
    "integral = integrate(f, 1, 1, 10000)\n",
    "print(\"Approximate integral using 10000 points:\", integral)\n",
    "\n",
    "integral = integrate(f, 1, 1, 100000)\n",
    "print(\"Approximate integral using 100000 points:\", integral)"
   ]
  },
  {
   "cell_type": "markdown",
   "metadata": {},
   "source": [
    "Precise values will differ as they depend on the random number generator."
   ]
  },
  {
   "cell_type": "markdown",
   "metadata": {},
   "source": [
    "(b) To approximate $\\pi$, we need to approximate the area of circle with radius $r=1$. We do this by approximately integrating a function that is equal to 1 inside the circle and zero outside: "
   ]
  },
  {
   "cell_type": "code",
   "execution_count": 17,
   "metadata": {},
   "outputs": [],
   "source": [
    "def f_circle(x, y):\n",
    "    if x*x + y*y < 1.0:\n",
    "        return 1.0\n",
    "    else:\n",
    "        return 0.0"
   ]
  },
  {
   "cell_type": "markdown",
   "metadata": {},
   "source": [
    "Applying the Monte Carlo integration and computing the error for each case:"
   ]
  },
  {
   "cell_type": "code",
   "execution_count": 18,
   "metadata": {},
   "outputs": [
    {
     "name": "stdout",
     "output_type": "stream",
     "text": [
      "Approximate pi using 100 points: 3.24\n",
      "Error:                           0.0984073464102071\n",
      "Approximate integral using 10000 points: 3.1516\n",
      "Error:                           0.010007346410207063\n",
      "Approximate integral using 100000 points: 3.14092\n",
      "Error:                           0.0006726535897931818\n"
     ]
    }
   ],
   "source": [
    "pi = integrate(f_circle, 1, 1, 100)\n",
    "print(\"Approximate pi using 100 points:\", pi)\n",
    "print(\"Error:                          \", abs(pi - np.pi))\n",
    "\n",
    "pi = integrate(f_circle, 1, 1, 10000)\n",
    "print(\"Approximate integral using 10000 points:\", pi)\n",
    "print(\"Error:                          \", abs(pi - np.pi))\n",
    "\n",
    "pi = integrate(f_circle, 1, 1, 100000)\n",
    "print(\"Approximate integral using 100000 points:\", pi)\n",
    "print(\"Error:                          \", abs(pi - np.pi))"
   ]
  },
  {
   "cell_type": "markdown",
   "metadata": {},
   "source": [
    "## Extension\n",
    "\n",
    "The above implementation of the function `integrate` processes only one value at a time. When $N$ is very large, the evaluations become costly.\n",
    "\n",
    "If the function `f` from part (a) is implemented using NumPy operators, e.g. `np.cos`, \n",
    "it can process many values at once.\n",
    "Below is a re-implementation of `integrate` which generates random values at once, and then processes all values together in the function `f`:"
   ]
  },
  {
   "cell_type": "code",
   "execution_count": 19,
   "metadata": {},
   "outputs": [],
   "source": [
    "import numpy as np\n",
    "\n",
    "def integrate_vectorised(f, a, b, N):\n",
    "    # Generate random point (xi, yi) that is inside the square (-a, a) x (-b, b)\n",
    "    x = np.random.uniform(-a, a, N)\n",
    "    y = np.random.uniform(-b, b, N)\n",
    "\n",
    "    # Evaluate at each point and sum\n",
    "    f_sum = f(x, y).sum()\n",
    "    \n",
    "    return (4.0*a*b)*f_sum/N"
   ]
  },
  {
   "cell_type": "markdown",
   "metadata": {},
   "source": [
    "Applying this implementation:"
   ]
  },
  {
   "cell_type": "code",
   "execution_count": 20,
   "metadata": {},
   "outputs": [
    {
     "name": "stdout",
     "output_type": "stream",
     "text": [
      "Approximate integral using 100 points: 1.1029670688022255\n",
      "Approximate integral using 10000 points: 0.9530838577834831\n",
      "Approximate integral using 100000 points: 0.9677357264173464\n",
      "Approximate integral using 1000000 points: 0.96904553954195\n",
      "Approximate integral using 10000000 points: 0.9686691865934886\n"
     ]
    }
   ],
   "source": [
    "integral = integrate_vectorised(f, 1.0, 1.0, 100)\n",
    "print(\"Approximate integral using 100 points:\", integral)\n",
    "\n",
    "integral = integrate_vectorised(f, 1.0, 1.0, 10000)\n",
    "print(\"Approximate integral using 10000 points:\", integral)\n",
    "\n",
    "integral = integrate_vectorised(f, 1.0, 1.0, 100000)\n",
    "print(\"Approximate integral using 100000 points:\", integral)\n",
    "\n",
    "integral = integrate_vectorised(f, 1.0, 1.0, 1000000)\n",
    "print(\"Approximate integral using 1000000 points:\", integral)\n",
    "\n",
    "integral = integrate_vectorised(f, 1.0, 1.0, 10000000)\n",
    "print(\"Approximate integral using 10000000 points:\", integral)"
   ]
  },
  {
   "cell_type": "markdown",
   "metadata": {},
   "source": [
    "This version is much faster than the first version, and larger $N$ can be used to get a result in a reasonable time."
   ]
  },
  {
   "cell_type": "markdown",
   "metadata": {},
   "source": [
    "# Copyright and license\n",
    "\n",
    "© Copyright 2016-2020 Garth N. Wells (<gnw20@cam.ac.uk>)\n",
    "\n",
    "## Notebook text \n",
    "\n",
    "This work is licensed under the Creative Commons\n",
    "Attribution-ShareAlike 4.0 International License. To view a copy of\n",
    "this license, visit <http://creativecommons.org/licenses/by-sa/4.0/>.\n",
    "\n",
    "## Notebook code\n",
    "\n",
    "This work is licensed nder the MIT License. To view a copy of\n",
    "this license, visit <https://opensource.org/licenses/MIT>."
   ]
  }
 ],
 "metadata": {
  "kernelspec": {
   "display_name": "Python 3",
   "language": "python",
   "name": "python3"
  },
  "language_info": {
   "codemirror_mode": {
    "name": "ipython",
    "version": 3
   },
   "file_extension": ".py",
   "mimetype": "text/x-python",
   "name": "python",
   "nbconvert_exporter": "python",
   "pygments_lexer": "ipython3",
   "version": "3.8.6"
  }
 },
 "nbformat": 4,
 "nbformat_minor": 4
}
